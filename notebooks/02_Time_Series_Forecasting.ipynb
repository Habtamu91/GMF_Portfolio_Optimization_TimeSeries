{
 "cells": [
  {
   "cell_type": "markdown",
   "id": "55733cf0-ac5f-4a16-84fa-f628abe4bfd9",
   "metadata": {},
   "source": [
    "# 1 . Imprort Required Libraries and Load Data"
   ]
  },
  {
   "cell_type": "markdown",
   "id": "b9f3bf2b-0ec8-4451-b555-a28c9a297fd3",
   "metadata": {},
   "source": [
    "### Train-Test Split for ARIMA Model"
   ]
  },
  {
   "cell_type": "markdown",
   "id": "6ff5dc5f-3cf7-4f02-83fd-ea5c76740cd6",
   "metadata": {},
   "source": [
    "## ➡️ ARIMA Model"
   ]
  },
  {
   "cell_type": "markdown",
   "id": "484aef41-87f6-4611-bdd3-192d19521509",
   "metadata": {},
   "source": [
    "## ➡️ LSTM Model"
   ]
  },
  {
   "cell_type": "markdown",
   "id": "b2f7a3d1-fae1-486a-a3ef-55ff454b3b60",
   "metadata": {},
   "source": [
    "## ➡️ Model Comparision"
   ]
  },
  {
   "cell_type": "code",
   "execution_count": 1,
   "id": "7656687a-b45a-46be-bc4f-ae160e4d9472",
   "metadata": {},
   "outputs": [
    {
     "name": "stdout",
     "output_type": "stream",
     "text": [
      "Loading processed data...\n",
      "Data loaded successfully (2541 points)\n",
      "Date range: 2015-07-01 00:00:00 to 2025-08-07 00:00:00\n",
      "\n",
      "🔧 Training ARIMA model...\n",
      "\n",
      "🧠 Training LSTM model...\n"
     ]
    },
    {
     "name": "stderr",
     "output_type": "stream",
     "text": [
      "C:\\Users\\dell\\AppData\\Roaming\\Python\\Python312\\site-packages\\keras\\src\\layers\\rnn\\rnn.py:199: UserWarning: Do not pass an `input_shape`/`input_dim` argument to a layer. When using Sequential models, prefer using an `Input(shape)` object as the first layer in the model instead.\n",
      "  super().__init__(**kwargs)\n"
     ]
    },
    {
     "name": "stdout",
     "output_type": "stream",
     "text": [
      "Epoch 1/50\n",
      "\u001b[1m50/50\u001b[0m \u001b[32m━━━━━━━━━━━━━━━━━━━━\u001b[0m\u001b[37m\u001b[0m \u001b[1m11s\u001b[0m 105ms/step - loss: 0.1801 - val_loss: 5.5154e-04\n",
      "Epoch 2/50\n",
      "\u001b[1m50/50\u001b[0m \u001b[32m━━━━━━━━━━━━━━━━━━━━\u001b[0m\u001b[37m\u001b[0m \u001b[1m4s\u001b[0m 77ms/step - loss: 0.1487 - val_loss: 0.0048\n",
      "Epoch 3/50\n",
      "\u001b[1m50/50\u001b[0m \u001b[32m━━━━━━━━━━━━━━━━━━━━\u001b[0m\u001b[37m\u001b[0m \u001b[1m7s\u001b[0m 99ms/step - loss: 0.1233 - val_loss: 0.0124\n",
      "Epoch 4/50\n",
      "\u001b[1m50/50\u001b[0m \u001b[32m━━━━━━━━━━━━━━━━━━━━\u001b[0m\u001b[37m\u001b[0m \u001b[1m4s\u001b[0m 80ms/step - loss: 0.1034 - val_loss: 0.0223\n",
      "Epoch 5/50\n",
      "\u001b[1m50/50\u001b[0m \u001b[32m━━━━━━━━━━━━━━━━━━━━\u001b[0m\u001b[37m\u001b[0m \u001b[1m5s\u001b[0m 78ms/step - loss: 0.0883 - val_loss: 0.0339\n",
      "Epoch 6/50\n",
      "\u001b[1m50/50\u001b[0m \u001b[32m━━━━━━━━━━━━━━━━━━━━\u001b[0m\u001b[37m\u001b[0m \u001b[1m4s\u001b[0m 78ms/step - loss: 0.0769 - val_loss: 0.0459\n",
      "\u001b[1m16/16\u001b[0m \u001b[32m━━━━━━━━━━━━━━━━━━━━\u001b[0m\u001b[37m\u001b[0m \u001b[1m1s\u001b[0m 54ms/step\n",
      "\n",
      "🤖 Creating hybrid ensemble...\n",
      "\u001b[1m16/16\u001b[0m \u001b[32m━━━━━━━━━━━━━━━━━━━━\u001b[0m\u001b[37m\u001b[0m \u001b[1m0s\u001b[0m 28ms/step\n"
     ]
    },
    {
     "ename": "ValueError",
     "evalue": "operands could not be broadcast together with shapes (60,) (497,) ",
     "output_type": "error",
     "traceback": [
      "\u001b[1;31m---------------------------------------------------------------------------\u001b[0m",
      "\u001b[1;31mValueError\u001b[0m                                Traceback (most recent call last)",
      "Cell \u001b[1;32mIn[1], line 99\u001b[0m\n\u001b[0;32m     97\u001b[0m \u001b[38;5;28mprint\u001b[39m(\u001b[38;5;124m\"\u001b[39m\u001b[38;5;130;01m\\n\u001b[39;00m\u001b[38;5;124m🤖 Creating hybrid ensemble...\u001b[39m\u001b[38;5;124m\"\u001b[39m)\n\u001b[0;32m     98\u001b[0m hybrid_predict \u001b[38;5;241m=\u001b[39m create_hybrid_model(arima_model, lstm_model)\n\u001b[1;32m---> 99\u001b[0m hybrid_forecast \u001b[38;5;241m=\u001b[39m hybrid_predict(X_test)\n\u001b[0;32m    100\u001b[0m hybrid_forecast \u001b[38;5;241m=\u001b[39m pd\u001b[38;5;241m.\u001b[39mSeries(hybrid_forecast, index\u001b[38;5;241m=\u001b[39mlstm_index)\n\u001b[0;32m    102\u001b[0m \u001b[38;5;66;03m# %%\u001b[39;00m\n\u001b[0;32m    103\u001b[0m \u001b[38;5;66;03m# 7. Evaluation\u001b[39;00m\n",
      "File \u001b[1;32m~\\GMF_Portfolio_Optimization_TimeSeries\\src\\models.py:82\u001b[0m, in \u001b[0;36mcreate_hybrid_model.<locals>.hybrid_predict\u001b[1;34m(X)\u001b[0m\n\u001b[0;32m     79\u001b[0m lstm_pred \u001b[38;5;241m=\u001b[39m lstm_model\u001b[38;5;241m.\u001b[39mpredict(X)\u001b[38;5;241m.\u001b[39mflatten()\n\u001b[0;32m     81\u001b[0m \u001b[38;5;66;03m# Combine predictions\u001b[39;00m\n\u001b[1;32m---> 82\u001b[0m \u001b[38;5;28;01mreturn\u001b[39;00m (arima_weight \u001b[38;5;241m*\u001b[39m arima_pred\u001b[38;5;241m.\u001b[39mvalues \u001b[38;5;241m+\u001b[39m \n\u001b[0;32m     83\u001b[0m         (\u001b[38;5;241m1\u001b[39m\u001b[38;5;241m-\u001b[39marima_weight) \u001b[38;5;241m*\u001b[39m lstm_pred)\n",
      "\u001b[1;31mValueError\u001b[0m: operands could not be broadcast together with shapes (60,) (497,) "
     ]
    }
   ],
   "source": [
    "# %% [markdown]\n",
    "# # Time Series Forecasting\n",
    "# ## Task 2: Hybrid ARIMA-LSTM Modeling\n",
    "\n",
    "# %%\n",
    "# 1. Setup\n",
    "import sys\n",
    "from pathlib import Path\n",
    "import numpy as np\n",
    "import pandas as pd\n",
    "import matplotlib.pyplot as plt\n",
    "import seaborn as sns\n",
    "from tensorflow.keras.callbacks import EarlyStopping  # Added missing import\n",
    "\n",
    "# Set project root\n",
    "PROJECT_ROOT = Path.cwd().parent\n",
    "sys.path.append(str(PROJECT_ROOT / 'src'))\n",
    "\n",
    "# Import custom modules\n",
    "from data_processing import load_merged_data, get_feature\n",
    "from models import (train_arima, forecast_arima,\n",
    "                   prepare_lstm_data, build_lstm_model,\n",
    "                   create_hybrid_model, evaluate_forecasts)\n",
    "\n",
    "# Visualization settings\n",
    "plt.style.use('ggplot')\n",
    "sns.set_theme(style=\"whitegrid\")\n",
    "%matplotlib inline\n",
    "\n",
    "# %%\n",
    "# 2. Data Loading\n",
    "print(\"Loading processed data...\")\n",
    "try:\n",
    "    df = load_merged_data()\n",
    "    tsla = df['TSLA'].astype('float32')\n",
    "    \n",
    "    # Load engineered features\n",
    "    returns = get_feature('daily_returns')['TSLA']\n",
    "    volatility = get_feature('rolling_volatility')['TSLA']\n",
    "    \n",
    "    print(f\"Data loaded successfully ({len(tsla)} points)\")\n",
    "    print(f\"Date range: {tsla.index.min()} to {tsla.index.max()}\")\n",
    "    \n",
    "except Exception as e:\n",
    "    print(\"❌ Data loading failed. Verify Task 1 completed successfully.\")\n",
    "    raise e\n",
    "\n",
    "# %%\n",
    "# 3. Train-Test Split\n",
    "train_size = int(len(tsla) * 0.8)\n",
    "train, test = tsla.iloc[:train_size], tsla.iloc[train_size:]\n",
    "\n",
    "# %%\n",
    "# 4. ARIMA Modeling - Ignore date warnings\n",
    "import warnings\n",
    "from statsmodels.tools.sm_exceptions import ValueWarning\n",
    "warnings.filterwarnings(\"ignore\", category=ValueWarning)\n",
    "\n",
    "print(\"\\n🔧 Training ARIMA model...\")\n",
    "arima_model = train_arima(train)\n",
    "arima_forecast, _ = forecast_arima(arima_model, test)\n",
    "\n",
    "# Restore warnings\n",
    "warnings.filterwarnings(\"default\", category=ValueWarning)\n",
    "\n",
    "# %%\n",
    "# 5. LSTM Modeling\n",
    "print(\"\\n🧠 Training LSTM model...\")\n",
    "X, y, scaler = prepare_lstm_data(tsla, additional_features=[returns, volatility])\n",
    "split = int(len(X) * 0.8)\n",
    "X_train, X_test = X[:split], X[split:]\n",
    "y_train, y_test = y[:split], y[split:]\n",
    "\n",
    "# Build model\n",
    "lstm_model = build_lstm_model(\n",
    "    input_shape=(X_train.shape[1], X_train.shape[2])\n",
    ")\n",
    "\n",
    "# Train with early stopping\n",
    "history = lstm_model.fit(\n",
    "    X_train, y_train,\n",
    "    epochs=50,\n",
    "    batch_size=32,\n",
    "    validation_split=0.2,\n",
    "    callbacks=[EarlyStopping(patience=5, restore_best_weights=True)],  # Now properly defined\n",
    "    verbose=1\n",
    ")\n",
    "\n",
    "# Generate forecasts\n",
    "lstm_pred = lstm_model.predict(X_test)\n",
    "lstm_forecast = scaler.inverse_transform(lstm_pred.reshape(-1,1)).flatten()\n",
    "lstm_index = tsla.index[60 + split : 60 + split + len(lstm_pred)]\n",
    "lstm_forecast = pd.Series(lstm_forecast, index=lstm_index)\n",
    "\n",
    "# %%\n",
    "# 6. Hybrid Model\n",
    "print(\"\\n🤖 Creating hybrid ensemble...\")\n",
    "hybrid_predict = create_hybrid_model(arima_model, lstm_model)\n",
    "hybrid_forecast = hybrid_predict(X_test)\n",
    "hybrid_forecast = pd.Series(hybrid_forecast, index=lstm_index)\n",
    "\n",
    "# %%\n",
    "# 7. Evaluation\n",
    "results = evaluate_forecasts(\n",
    "    test,\n",
    "    {\n",
    "        'ARIMA': arima_forecast,\n",
    "        'LSTM': lstm_forecast,\n",
    "        'Hybrid': hybrid_forecast\n",
    "    }\n",
    ")\n",
    "\n",
    "print(\"\\n📊 Model Performance:\")\n",
    "display(results.style.background_gradient(cmap='Blues'))\n",
    "\n",
    "# %%\n",
    "# 8. Visualization\n",
    "plt.figure(figsize=(14,7))\n",
    "plt.plot(train[-100:], label='Training Data', alpha=0.6)\n",
    "plt.plot(test, label='Actual', color='black', linewidth=2)\n",
    "plt.plot(arima_forecast, label='ARIMA', linestyle='--')\n",
    "plt.plot(lstm_forecast, label='LSTM', linestyle=':')\n",
    "plt.plot(hybrid_forecast, label='Hybrid', linewidth=2)\n",
    "plt.title('TSLA Price Forecasting Comparison')\n",
    "plt.legend()\n",
    "plt.grid(True)\n",
    "plt.show()\n",
    "\n",
    "# %%\n",
    "# 9. Save Results\n",
    "output_dir = PROJECT_ROOT / 'outputs'\n",
    "output_dir.mkdir(exist_ok=True, parents=True)\n",
    "\n",
    "forecast_df = pd.DataFrame({\n",
    "    'Actual': test[lstm_index],\n",
    "    'ARIMA': arima_forecast[lstm_index],\n",
    "    'LSTM': lstm_forecast,\n",
    "    'Hybrid': hybrid_forecast\n",
    "})\n",
    "forecast_df.to_csv(output_dir / 'forecasts.csv')\n",
    "\n",
    "print(f\"\\n✅ Results saved to {output_dir / 'forecasts.csv'}\")"
   ]
  }
 ],
 "metadata": {
  "kernelspec": {
   "display_name": "Python 3 (ipykernel)",
   "language": "python",
   "name": "python3"
  },
  "language_info": {
   "codemirror_mode": {
    "name": "ipython",
    "version": 3
   },
   "file_extension": ".py",
   "mimetype": "text/x-python",
   "name": "python",
   "nbconvert_exporter": "python",
   "pygments_lexer": "ipython3",
   "version": "3.12.7"
  }
 },
 "nbformat": 4,
 "nbformat_minor": 5
}
