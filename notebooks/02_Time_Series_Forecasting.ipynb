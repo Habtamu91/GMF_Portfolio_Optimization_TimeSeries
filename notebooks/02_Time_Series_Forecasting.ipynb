{
 "cells": [
  {
   "cell_type": "markdown",
   "id": "55733cf0-ac5f-4a16-84fa-f628abe4bfd9",
   "metadata": {},
   "source": [
    "# 1 . Imprort Required Libraries and Load Data"
   ]
  },
  {
   "cell_type": "markdown",
   "id": "6ff5dc5f-3cf7-4f02-83fd-ea5c76740cd6",
   "metadata": {},
   "source": [
    "## ➡️ ARIMA Model"
   ]
  },
  {
   "cell_type": "markdown",
   "id": "484aef41-87f6-4611-bdd3-192d19521509",
   "metadata": {},
   "source": [
    "## ➡️ LSTM Model"
   ]
  },
  {
   "cell_type": "markdown",
   "id": "b2f7a3d1-fae1-486a-a3ef-55ff454b3b60",
   "metadata": {},
   "source": [
    "## ➡️ Model Comparision"
   ]
  }
 ],
 "metadata": {
  "kernelspec": {
   "display_name": "Python 3 (ipykernel)",
   "language": "python",
   "name": "python3"
  },
  "language_info": {
   "codemirror_mode": {
    "name": "ipython",
    "version": 3
   },
   "file_extension": ".py",
   "mimetype": "text/x-python",
   "name": "python",
   "nbconvert_exporter": "python",
   "pygments_lexer": "ipython3",
   "version": "3.12.7"
  }
 },
 "nbformat": 4,
 "nbformat_minor": 5
}
