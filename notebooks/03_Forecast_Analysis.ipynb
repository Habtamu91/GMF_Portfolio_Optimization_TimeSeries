{
 "cells": [
  {
   "cell_type": "markdown",
   "id": "46c1b827-4634-458c-bdb5-0aad3f859d1a",
   "metadata": {},
   "source": [
    "# Step 1 : Improt Libraries and Load Saved Forecasts."
   ]
  },
  {
   "cell_type": "code",
   "execution_count": 6,
   "id": "c114e703-b6a3-4990-9579-ba601e9f45ea",
   "metadata": {},
   "outputs": [
    {
     "name": "stdout",
     "output_type": "stream",
     "text": [
      "✅ Data Successfully\n"
     ]
    }
   ],
   "source": [
    "import pandas as pd \n",
    "import numpy as np\n",
    "# 1. Load your saved forecasts\n",
    "forecasts = pd.read_csv('../outputs/forecasts/TSLA_forecasts.csv', index_col=0, parse_dates=True)\n",
    "print(\"✅ Data Successfully\")"
   ]
  },
  {
   "cell_type": "markdown",
   "id": "b0dd5e17-46c1-4722-9cc7-632b2bc342eb",
   "metadata": {},
   "source": [
    "# Step 2 : Analyze Trends and volatility"
   ]
  },
  {
   "cell_type": "code",
   "execution_count": 4,
   "id": "05790bfe-aa04-497d-ab85-874a06c569cb",
   "metadata": {},
   "outputs": [],
   "source": [
    "# 2. Analyze trends and volatility\n",
    "def analyze_forecasts(forecasts):\n",
    "    results = {}\n",
    "    for col in forecasts.columns[1:]:  # Skip 'Actual'\n",
    "        error = forecasts['Actual'] - forecasts[col]\n",
    "        results[col] = {\n",
    "            'Mean Absolute Error': error.abs().mean(),\n",
    "            'Annualized Volatility': error.std() * np.sqrt(252),\n",
    "            'Trend Accuracy': np.mean(np.sign(forecasts['Actual'].diff()) == np.sign(forecasts[col].diff()))\n",
    "        }\n",
    "    return pd.DataFrame(results)"
   ]
  },
  {
   "cell_type": "markdown",
   "id": "fd48ec41-7627-4acd-a8bd-add2bf22435c",
   "metadata": {},
   "source": [
    "# Step 3 : Saved results"
   ]
  },
  {
   "cell_type": "code",
   "execution_count": 8,
   "id": "cdbde84d-12dc-472d-b18e-ae38cb7a82e7",
   "metadata": {},
   "outputs": [
    {
     "name": "stdout",
     "output_type": "stream",
     "text": [
      "✅ Data Saved on 'forecasts' folder\n"
     ]
    }
   ],
   "source": [
    "analysis_results = analyze_forecasts(forecasts)\n",
    "analysis_results.to_csv('../outputs/forecasts/analysis_results.csv')\n",
    "print(\"✅ Data Saved on 'forecasts' folder\")"
   ]
  }
 ],
 "metadata": {
  "kernelspec": {
   "display_name": "Python 3 (ipykernel)",
   "language": "python",
   "name": "python3"
  },
  "language_info": {
   "codemirror_mode": {
    "name": "ipython",
    "version": 3
   },
   "file_extension": ".py",
   "mimetype": "text/x-python",
   "name": "python",
   "nbconvert_exporter": "python",
   "pygments_lexer": "ipython3",
   "version": "3.12.7"
  }
 },
 "nbformat": 4,
 "nbformat_minor": 5
}
